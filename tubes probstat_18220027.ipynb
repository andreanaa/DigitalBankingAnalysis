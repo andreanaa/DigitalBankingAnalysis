{
 "cells": [
  {
   "cell_type": "markdown",
   "id": "25826109",
   "metadata": {},
   "source": [
    "# Nama :"
   ]
  },
  {
   "cell_type": "code",
   "execution_count": 1,
   "id": "24f6c555",
   "metadata": {},
   "outputs": [
    {
     "name": "stdout",
     "output_type": "stream",
     "text": [
      "Andreana Hartadi Suliman\n"
     ]
    }
   ],
   "source": [
    "print(\"Andreana Hartadi Suliman\")"
   ]
  },
  {
   "cell_type": "markdown",
   "id": "67b76023",
   "metadata": {},
   "source": [
    "# NIM :"
   ]
  },
  {
   "cell_type": "code",
   "execution_count": 2,
   "id": "66e2f94e",
   "metadata": {},
   "outputs": [
    {
     "name": "stdout",
     "output_type": "stream",
     "text": [
      "18220027\n"
     ]
    }
   ],
   "source": [
    "print(\"18220027\")"
   ]
  },
  {
   "cell_type": "markdown",
   "id": "0f6f03de",
   "metadata": {},
   "source": [
    "## Import Library"
   ]
  },
  {
   "cell_type": "code",
   "execution_count": 3,
   "id": "bb31926e",
   "metadata": {},
   "outputs": [],
   "source": [
    "import pandas as pd\n",
    "import numpy as np\n",
    "import seaborn as sns\n",
    "import matplotlib.pyplot as plt\n",
    "from scipy.stats import norm"
   ]
  },
  {
   "cell_type": "markdown",
   "id": "5c7b8686",
   "metadata": {},
   "source": [
    "## Import CSV"
   ]
  },
  {
   "cell_type": "code",
   "execution_count": 5,
   "id": "86a5791f",
   "metadata": {},
   "outputs": [
    {
     "data": {
      "text/html": [
       "<div>\n",
       "<style scoped>\n",
       "    .dataframe tbody tr th:only-of-type {\n",
       "        vertical-align: middle;\n",
       "    }\n",
       "\n",
       "    .dataframe tbody tr th {\n",
       "        vertical-align: top;\n",
       "    }\n",
       "\n",
       "    .dataframe thead th {\n",
       "        text-align: right;\n",
       "    }\n",
       "</style>\n",
       "<table border=\"1\" class=\"dataframe\">\n",
       "  <thead>\n",
       "    <tr style=\"text-align: right;\">\n",
       "      <th></th>\n",
       "      <th>responden</th>\n",
       "      <th>jenis_kelamin</th>\n",
       "      <th>usia</th>\n",
       "      <th>pendidikan</th>\n",
       "      <th>penghasilan</th>\n",
       "      <th>aktivitas_meningkat_1</th>\n",
       "      <th>aktivitas_meningkat_2</th>\n",
       "      <th>aktivitas_meningkat_3</th>\n",
       "      <th>aktivitas_meningkat_4</th>\n",
       "      <th>aktivitas_meningkat_5</th>\n",
       "      <th>...</th>\n",
       "      <th>alasan_4</th>\n",
       "      <th>alasan_5</th>\n",
       "      <th>fitur_1</th>\n",
       "      <th>fitur_2</th>\n",
       "      <th>fitur_3</th>\n",
       "      <th>fitur_4</th>\n",
       "      <th>fitur_5</th>\n",
       "      <th>keluhan_1</th>\n",
       "      <th>keluhan_2</th>\n",
       "      <th>keluhan_3</th>\n",
       "    </tr>\n",
       "  </thead>\n",
       "  <tbody>\n",
       "    <tr>\n",
       "      <th>0</th>\n",
       "      <td>1</td>\n",
       "      <td>Laki – laki</td>\n",
       "      <td>15-20 tahun</td>\n",
       "      <td>SMA</td>\n",
       "      <td>&lt; Rp 2 juta</td>\n",
       "      <td>NaN</td>\n",
       "      <td>NaN</td>\n",
       "      <td>Mengikuti kelas online</td>\n",
       "      <td>Akses media sosial</td>\n",
       "      <td>NaN</td>\n",
       "      <td>...</td>\n",
       "      <td>fitur yang ditawarkan beragam dan memenuhi keb...</td>\n",
       "      <td>promo</td>\n",
       "      <td>Cek Saldo</td>\n",
       "      <td>Transfer</td>\n",
       "      <td>Pembelian Pulsa, eMoney, &amp; voucher-voucher lai...</td>\n",
       "      <td>NaN</td>\n",
       "      <td>NaN</td>\n",
       "      <td>NaN</td>\n",
       "      <td>NaN</td>\n",
       "      <td>NaN</td>\n",
       "    </tr>\n",
       "    <tr>\n",
       "      <th>1</th>\n",
       "      <td>2</td>\n",
       "      <td>Laki – laki</td>\n",
       "      <td>15-20 tahun</td>\n",
       "      <td>SMA</td>\n",
       "      <td>Rp 2 juta – Rp 5 juta</td>\n",
       "      <td>Berbelanja online</td>\n",
       "      <td>Streaming video/ film</td>\n",
       "      <td>Mengikuti kelas online</td>\n",
       "      <td>Akses media sosial</td>\n",
       "      <td>NaN</td>\n",
       "      <td>...</td>\n",
       "      <td>fitur yang ditawarkan beragam dan memenuhi keb...</td>\n",
       "      <td>promo</td>\n",
       "      <td>Cek Saldo</td>\n",
       "      <td>Transfer</td>\n",
       "      <td>Pembelian Pulsa, eMoney, &amp; voucher-voucher lai...</td>\n",
       "      <td>Pembayaran Tagihan</td>\n",
       "      <td>Mutasi rekening/ History Transaksi/ Spending T...</td>\n",
       "      <td>NaN</td>\n",
       "      <td>NaN</td>\n",
       "      <td>NaN</td>\n",
       "    </tr>\n",
       "    <tr>\n",
       "      <th>2</th>\n",
       "      <td>3</td>\n",
       "      <td>Laki – laki</td>\n",
       "      <td>15-20 tahun</td>\n",
       "      <td>SMA</td>\n",
       "      <td>&lt; Rp 2 juta</td>\n",
       "      <td>Berbelanja online</td>\n",
       "      <td>Streaming video/ film</td>\n",
       "      <td>Mengikuti kelas online</td>\n",
       "      <td>Akses media sosial</td>\n",
       "      <td>NaN</td>\n",
       "      <td>...</td>\n",
       "      <td>NaN</td>\n",
       "      <td>NaN</td>\n",
       "      <td>NaN</td>\n",
       "      <td>NaN</td>\n",
       "      <td>NaN</td>\n",
       "      <td>NaN</td>\n",
       "      <td>NaN</td>\n",
       "      <td>NaN</td>\n",
       "      <td>NaN</td>\n",
       "      <td>NaN</td>\n",
       "    </tr>\n",
       "    <tr>\n",
       "      <th>3</th>\n",
       "      <td>4</td>\n",
       "      <td>Laki – laki</td>\n",
       "      <td>15-20 tahun</td>\n",
       "      <td>SMA</td>\n",
       "      <td>&lt; Rp 2 juta</td>\n",
       "      <td>Berbelanja online</td>\n",
       "      <td>Streaming video/ film</td>\n",
       "      <td>Mengikuti kelas online</td>\n",
       "      <td>Akses media sosial</td>\n",
       "      <td>Melakukan konsultasi kesehatan secara online</td>\n",
       "      <td>...</td>\n",
       "      <td>NaN</td>\n",
       "      <td>NaN</td>\n",
       "      <td>NaN</td>\n",
       "      <td>NaN</td>\n",
       "      <td>NaN</td>\n",
       "      <td>NaN</td>\n",
       "      <td>NaN</td>\n",
       "      <td>NaN</td>\n",
       "      <td>NaN</td>\n",
       "      <td>NaN</td>\n",
       "    </tr>\n",
       "    <tr>\n",
       "      <th>4</th>\n",
       "      <td>5</td>\n",
       "      <td>Perempuan</td>\n",
       "      <td>15-20 tahun</td>\n",
       "      <td>SMA</td>\n",
       "      <td>&lt; Rp 2 juta</td>\n",
       "      <td>Berbelanja online</td>\n",
       "      <td>Streaming video/ film</td>\n",
       "      <td>Mengikuti kelas online</td>\n",
       "      <td>Akses media sosial</td>\n",
       "      <td>NaN</td>\n",
       "      <td>...</td>\n",
       "      <td>NaN</td>\n",
       "      <td>NaN</td>\n",
       "      <td>NaN</td>\n",
       "      <td>NaN</td>\n",
       "      <td>NaN</td>\n",
       "      <td>NaN</td>\n",
       "      <td>NaN</td>\n",
       "      <td>NaN</td>\n",
       "      <td>NaN</td>\n",
       "      <td>NaN</td>\n",
       "    </tr>\n",
       "  </tbody>\n",
       "</table>\n",
       "<p>5 rows × 29 columns</p>\n",
       "</div>"
      ],
      "text/plain": [
       "   responden jenis_kelamin         usia pendidikan            penghasilan  \\\n",
       "0          1   Laki – laki  15-20 tahun        SMA            < Rp 2 juta   \n",
       "1          2   Laki – laki  15-20 tahun        SMA  Rp 2 juta – Rp 5 juta   \n",
       "2          3   Laki – laki  15-20 tahun        SMA            < Rp 2 juta   \n",
       "3          4   Laki – laki  15-20 tahun        SMA            < Rp 2 juta   \n",
       "4          5     Perempuan  15-20 tahun        SMA            < Rp 2 juta   \n",
       "\n",
       "  aktivitas_meningkat_1  aktivitas_meningkat_2   aktivitas_meningkat_3  \\\n",
       "0                   NaN                    NaN  Mengikuti kelas online   \n",
       "1     Berbelanja online  Streaming video/ film  Mengikuti kelas online   \n",
       "2     Berbelanja online  Streaming video/ film  Mengikuti kelas online   \n",
       "3     Berbelanja online  Streaming video/ film  Mengikuti kelas online   \n",
       "4     Berbelanja online  Streaming video/ film  Mengikuti kelas online   \n",
       "\n",
       "  aktivitas_meningkat_4                         aktivitas_meningkat_5  ...  \\\n",
       "0    Akses media sosial                                           NaN  ...   \n",
       "1    Akses media sosial                                           NaN  ...   \n",
       "2    Akses media sosial                                           NaN  ...   \n",
       "3    Akses media sosial  Melakukan konsultasi kesehatan secara online  ...   \n",
       "4    Akses media sosial                                           NaN  ...   \n",
       "\n",
       "                                            alasan_4 alasan_5    fitur_1  \\\n",
       "0  fitur yang ditawarkan beragam dan memenuhi keb...    promo  Cek Saldo   \n",
       "1  fitur yang ditawarkan beragam dan memenuhi keb...    promo  Cek Saldo   \n",
       "2                                                NaN      NaN        NaN   \n",
       "3                                                NaN      NaN        NaN   \n",
       "4                                                NaN      NaN        NaN   \n",
       "\n",
       "    fitur_2                                            fitur_3  \\\n",
       "0  Transfer  Pembelian Pulsa, eMoney, & voucher-voucher lai...   \n",
       "1  Transfer  Pembelian Pulsa, eMoney, & voucher-voucher lai...   \n",
       "2       NaN                                                NaN   \n",
       "3       NaN                                                NaN   \n",
       "4       NaN                                                NaN   \n",
       "\n",
       "              fitur_4                                            fitur_5  \\\n",
       "0                 NaN                                                NaN   \n",
       "1  Pembayaran Tagihan  Mutasi rekening/ History Transaksi/ Spending T...   \n",
       "2                 NaN                                                NaN   \n",
       "3                 NaN                                                NaN   \n",
       "4                 NaN                                                NaN   \n",
       "\n",
       "  keluhan_1 keluhan_2 keluhan_3  \n",
       "0       NaN       NaN       NaN  \n",
       "1       NaN       NaN       NaN  \n",
       "2       NaN       NaN       NaN  \n",
       "3       NaN       NaN       NaN  \n",
       "4       NaN       NaN       NaN  \n",
       "\n",
       "[5 rows x 29 columns]"
      ]
     },
     "execution_count": 5,
     "metadata": {},
     "output_type": "execute_result"
    }
   ],
   "source": [
    "df = pd.read_csv(\"/Users/andreana/Downloads/digital_banking.csv\")\n",
    "df.head()"
   ]
  },
  {
   "cell_type": "code",
   "execution_count": 6,
   "id": "ee6f1ab1",
   "metadata": {},
   "outputs": [
    {
     "name": "stdout",
     "output_type": "stream",
     "text": [
      "<class 'pandas.core.frame.DataFrame'>\n",
      "RangeIndex: 2095 entries, 0 to 2094\n",
      "Data columns (total 29 columns):\n",
      " #   Column                       Non-Null Count  Dtype \n",
      "---  ------                       --------------  ----- \n",
      " 0   responden                    2095 non-null   int64 \n",
      " 1   jenis_kelamin                2095 non-null   object\n",
      " 2   usia                         2095 non-null   object\n",
      " 3   pendidikan                   2095 non-null   object\n",
      " 4   penghasilan                  2095 non-null   object\n",
      " 5   aktivitas_meningkat_1        999 non-null    object\n",
      " 6   aktivitas_meningkat_2        1445 non-null   object\n",
      " 7   aktivitas_meningkat_3        1426 non-null   object\n",
      " 8   aktivitas_meningkat_4        1510 non-null   object\n",
      " 9   aktivitas_meningkat_5        100 non-null    object\n",
      " 10  memiliki_akun_digital_bank?  2095 non-null   object\n",
      " 11  digital_bank_pilihan_1       217 non-null    object\n",
      " 12  digital_bank_pilihan_2       20 non-null     object\n",
      " 13  digital_bank_pilihan_3       47 non-null     object\n",
      " 14  digital_bank_pilihan_4       89 non-null     object\n",
      " 15  digital_bank_pilihan_5       36 non-null     object\n",
      " 16  alasan_1                     291 non-null    object\n",
      " 17  alasan_2                     71 non-null     object\n",
      " 18  alasan_3                     236 non-null    object\n",
      " 19  alasan_4                     130 non-null    object\n",
      " 20  alasan_5                     141 non-null    object\n",
      " 21  fitur_1                      265 non-null    object\n",
      " 22  fitur_2                      366 non-null    object\n",
      " 23  fitur_3                      248 non-null    object\n",
      " 24  fitur_4                      145 non-null    object\n",
      " 25  fitur_5                      132 non-null    object\n",
      " 26  keluhan_1                    36 non-null     object\n",
      " 27  keluhan_2                    27 non-null     object\n",
      " 28  keluhan_3                    70 non-null     object\n",
      "dtypes: int64(1), object(28)\n",
      "memory usage: 474.8+ KB\n"
     ]
    }
   ],
   "source": [
    "df.info()"
   ]
  },
  {
   "cell_type": "markdown",
   "id": "d741675d",
   "metadata": {},
   "source": [
    "### Data Demografi"
   ]
  },
  {
   "cell_type": "code",
   "execution_count": 14,
   "id": "1fec48d7",
   "metadata": {},
   "outputs": [],
   "source": [
    "n = 2095"
   ]
  },
  {
   "cell_type": "code",
   "execution_count": 12,
   "id": "aa1d197b",
   "metadata": {},
   "outputs": [
    {
     "name": "stdout",
     "output_type": "stream",
     "text": [
      "tabel frekuensijenis_kelamin\n",
      "    jenis_kelamin  frekuensi  proporsi\n",
      "0     Laki – laki       1049  0.500716\n",
      "1       Perempuan       1031  0.492124\n",
      "2  tidak menjawab         15  0.007160\n"
     ]
    },
    {
     "data": {
      "image/png": "[encoded data removed]",
      "text/plain": [
       "<Figure size 432x288 with 1 Axes>"
      ]
     },
     "metadata": {},
     "output_type": "display_data"
    },
    {
     "name": "stdout",
     "output_type": "stream",
     "text": [
      "\n",
      "tabel frekuensiusia\n",
      "             usia  frekuensi  proporsi\n",
      "0     15-20 tahun       1489  0.710740\n",
      "1     21-30 tahun        288  0.137470\n",
      "2     41-50 tahun        143  0.068258\n",
      "3       >50 tahun         84  0.040095\n",
      "4     31-40 tahun         70  0.033413\n",
      "5      < 15 tahun         12  0.005728\n",
      "6  tidak menjawab          9  0.004296\n"
     ]
    },
    {
     "data": {
      "image/png": "[encoded data removed]",
      "text/plain": [
       "<Figure size 432x288 with 1 Axes>"
      ]
     },
     "metadata": {},
     "output_type": "display_data"
    },
    {
     "name": "stdout",
     "output_type": "stream",
     "text": [
      "\n",
      "tabel frekuensipendidikan\n",
      "       pendidikan  frekuensi  proporsi\n",
      "0             SMA       1468  0.700716\n",
      "1              S1        506  0.241527\n",
      "2              S2         69  0.032936\n",
      "3             SMP         18  0.008592\n",
      "4              S3         13  0.006205\n",
      "5  tidak menjawab         13  0.006205\n",
      "6              SD          8  0.003819\n"
     ]
    },
    {
     "data": {
      "image/png": "[encoded data removed]",
      "text/plain": [
       "<Figure size 432x288 with 1 Axes>"
      ]
     },
     "metadata": {},
     "output_type": "display_data"
    },
    {
     "name": "stdout",
     "output_type": "stream",
     "text": [
      "\n",
      "tabel frekuensipenghasilan\n",
      "              penghasilan  frekuensi  proporsi\n",
      "0             < Rp 2 juta       1502  0.716945\n",
      "1   Rp 2 juta – Rp 5 juta        264  0.126014\n",
      "2  Rp 5 juta – Rp 10 juta        153  0.073031\n",
      "3            > Rp 10 juta        131  0.062530\n",
      "4          tidak menjawab         45  0.021480\n"
     ]
    },
    {
     "data": {
      "image/png": "[encoded data removed]",
      "text/plain": [
       "<Figure size 432x288 with 1 Axes>"
      ]
     },
     "metadata": {},
     "output_type": "display_data"
    },
    {
     "name": "stdout",
     "output_type": "stream",
     "text": [
      "\n"
     ]
    }
   ],
   "source": [
    "for x in list(df.columns)[1:5]:\n",
    "    print('tabel frekuensi{}'.format(x))\n",
    "    dfx = pd.DataFrame(df[x].value_counts()).reset_index()\n",
    "    dfx['proporsi']=dfx[x]/n\n",
    "    dfx.columns = [x, 'frekuensi', 'proporsi']\n",
    "    print(dfx)\n",
    "    \n",
    "    plt.pie(dfx['proporsi'], labels = list(dfx[x]), autopct = '%.0f%%', normalize = False)\n",
    "    plt.title('proporsi {} responden (n={})'.format(x,n))\n",
    "    plt.show()\n",
    "    print('')"
   ]
  },
  {
   "cell_type": "markdown",
   "id": "138c1cf0",
   "metadata": {},
   "source": [
    "### proporsi aktivitas online responden yang meningkat"
   ]
  },
  {
   "cell_type": "code",
   "execution_count": 17,
   "id": "0d576206",
   "metadata": {},
   "outputs": [
    {
     "name": "stdout",
     "output_type": "stream",
     "text": [
      "                                      aktivitas  frekuensi  proporsi\n",
      "0                             Berbelanja online        999  0.476850\n",
      "1                         Streaming video/ film       1445  0.689737\n",
      "2                        Mengikuti kelas online       1426  0.680668\n",
      "3                            Akses media sosial       1510  0.720764\n",
      "4  Melakukan konsultasi kesehatan secara online        100  0.047733\n"
     ]
    },
    {
     "data": {
      "image/png": "[encoded data removed]",
      "text/plain": [
       "<Figure size 432x288 with 1 Axes>"
      ]
     },
     "metadata": {
      "needs_background": "light"
     },
     "output_type": "display_data"
    }
   ],
   "source": [
    "aktivitas = pd.DataFrame()\n",
    "\n",
    "for x in list(df.columns)[5:10]:\n",
    "    dfx = pd.DataFrame(df[x].value_counts()).reset_index()\n",
    "    dfx['proporsi']=dfx[x]/n\n",
    "    dfx.columns = ['aktivitas', 'frekuensi', 'proporsi']\n",
    "    aktivitas = pd.concat([aktivitas, dfx], axis=0)\n",
    "aktivitas = aktivitas.reset_index(drop=True)\n",
    "print(aktivitas)\n",
    "\n",
    "sns.barplot(data=aktivitas, x='aktivitas', y='proporsi')\n",
    "plt.xticks(rotation=90)\n",
    "plt.title('Aktivitas Online Responden yang Meningkat (n={})'.format(n))\n",
    "plt.show()"
   ]
  },
  {
   "cell_type": "markdown",
   "id": "d467dfb9",
   "metadata": {},
   "source": [
    "### confidence interval"
   ]
  },
  {
   "cell_type": "code",
   "execution_count": 20,
   "id": "8cdd89c1",
   "metadata": {},
   "outputs": [
    {
     "data": {
      "text/html": [
       "<div>\n",
       "<style scoped>\n",
       "    .dataframe tbody tr th:only-of-type {\n",
       "        vertical-align: middle;\n",
       "    }\n",
       "\n",
       "    .dataframe tbody tr th {\n",
       "        vertical-align: top;\n",
       "    }\n",
       "\n",
       "    .dataframe thead th {\n",
       "        text-align: right;\n",
       "    }\n",
       "</style>\n",
       "<table border=\"1\" class=\"dataframe\">\n",
       "  <thead>\n",
       "    <tr style=\"text-align: right;\">\n",
       "      <th></th>\n",
       "      <th>aktivitas</th>\n",
       "      <th>frekuensi</th>\n",
       "      <th>proporsi</th>\n",
       "      <th>z(alpha/2)</th>\n",
       "      <th>error</th>\n",
       "      <th>batas atas</th>\n",
       "      <th>batas bawah</th>\n",
       "    </tr>\n",
       "  </thead>\n",
       "  <tbody>\n",
       "    <tr>\n",
       "      <th>0</th>\n",
       "      <td>Berbelanja online</td>\n",
       "      <td>999</td>\n",
       "      <td>0.476850</td>\n",
       "      <td>1.959964</td>\n",
       "      <td>0.021388</td>\n",
       "      <td>0.498237</td>\n",
       "      <td>0.455462</td>\n",
       "    </tr>\n",
       "    <tr>\n",
       "      <th>1</th>\n",
       "      <td>Streaming video/ film</td>\n",
       "      <td>1445</td>\n",
       "      <td>0.689737</td>\n",
       "      <td>1.959964</td>\n",
       "      <td>0.019809</td>\n",
       "      <td>0.709546</td>\n",
       "      <td>0.669928</td>\n",
       "    </tr>\n",
       "    <tr>\n",
       "      <th>2</th>\n",
       "      <td>Mengikuti kelas online</td>\n",
       "      <td>1426</td>\n",
       "      <td>0.680668</td>\n",
       "      <td>1.959964</td>\n",
       "      <td>0.019964</td>\n",
       "      <td>0.700632</td>\n",
       "      <td>0.660704</td>\n",
       "    </tr>\n",
       "    <tr>\n",
       "      <th>3</th>\n",
       "      <td>Akses media sosial</td>\n",
       "      <td>1510</td>\n",
       "      <td>0.720764</td>\n",
       "      <td>1.959964</td>\n",
       "      <td>0.019210</td>\n",
       "      <td>0.739974</td>\n",
       "      <td>0.701553</td>\n",
       "    </tr>\n",
       "    <tr>\n",
       "      <th>4</th>\n",
       "      <td>Melakukan konsultasi kesehatan secara online</td>\n",
       "      <td>100</td>\n",
       "      <td>0.047733</td>\n",
       "      <td>1.959964</td>\n",
       "      <td>0.009129</td>\n",
       "      <td>0.056862</td>\n",
       "      <td>0.038603</td>\n",
       "    </tr>\n",
       "  </tbody>\n",
       "</table>\n",
       "</div>"
      ],
      "text/plain": [
       "                                      aktivitas  frekuensi  proporsi  \\\n",
       "0                             Berbelanja online        999  0.476850   \n",
       "1                         Streaming video/ film       1445  0.689737   \n",
       "2                        Mengikuti kelas online       1426  0.680668   \n",
       "3                            Akses media sosial       1510  0.720764   \n",
       "4  Melakukan konsultasi kesehatan secara online        100  0.047733   \n",
       "\n",
       "   z(alpha/2)     error  batas atas  batas bawah  \n",
       "0    1.959964  0.021388    0.498237     0.455462  \n",
       "1    1.959964  0.019809    0.709546     0.669928  \n",
       "2    1.959964  0.019964    0.700632     0.660704  \n",
       "3    1.959964  0.019210    0.739974     0.701553  \n",
       "4    1.959964  0.009129    0.056862     0.038603  "
      ]
     },
     "execution_count": 20,
     "metadata": {},
     "output_type": "execute_result"
    }
   ],
   "source": [
    "aktivitas['z(alpha/2)']=norm.ppf(0.975)\n",
    "aktivitas['error'] = aktivitas['z(alpha/2)']*(aktivitas['proporsi']*(1-aktivitas['proporsi'])/n)**(1/2)\n",
    "\n",
    "aktivitas['batas atas'] = aktivitas['proporsi'] + aktivitas['error']\n",
    "aktivitas['batas bawah'] = aktivitas['proporsi'] - aktivitas['error']\n",
    "\n",
    "aktivitas"
   ]
  },
  {
   "cell_type": "code",
   "execution_count": 27,
   "id": "ce1098d4",
   "metadata": {},
   "outputs": [
    {
     "name": "stdout",
     "output_type": "stream",
     "text": [
      "a. Streaming video/film\n",
      "0.6699284656085321 < p < 0.7095464747255967\n",
      "b. Mengikuti kelas online\n",
      "0.6607043813886291 < p < 0.7006321341244974\n",
      "a. Konsultasi kesehatan online\n",
      "0.038603270322470046 < p < 0.056862123472279355\n"
     ]
    }
   ],
   "source": [
    "print('a. Streaming video/film')\n",
    "print('{} < p < {}'.format(aktivitas.at[1, 'batas bawah'], aktivitas.at[1, 'batas atas']))\n",
    "\n",
    "print('b. Mengikuti kelas online')\n",
    "print('{} < p < {}'.format(aktivitas.at[2, 'batas bawah'], aktivitas.at[2, 'batas atas']))\n",
    "\n",
    "print('a. Konsultasi kesehatan online')\n",
    "print('{} < p < {}'.format(aktivitas.at[4, 'batas bawah'], aktivitas.at[4, 'batas atas']))"
   ]
  },
  {
   "cell_type": "markdown",
   "id": "aac72923",
   "metadata": {},
   "source": [
    "### proporsi responden yang memiliki akun digital bank"
   ]
  },
  {
   "cell_type": "code",
   "execution_count": 33,
   "id": "0b4734de",
   "metadata": {},
   "outputs": [
    {
     "name": "stdout",
     "output_type": "stream",
     "text": [
      "  punya_digital_bank?  frekuensi  proporsi\n",
      "0               tidak       1576  0.752267\n",
      "1                  ya        519  0.247733\n"
     ]
    },
    {
     "data": {
      "image/png": "[encoded data removed]",
      "text/plain": [
       "<Figure size 432x288 with 1 Axes>"
      ]
     },
     "metadata": {},
     "output_type": "display_data"
    }
   ],
   "source": [
    "db = pd.DataFrame(df.iloc[:,10].value_counts())\n",
    "db = db.reset_index()\n",
    "db.columns = ['punya_digital_bank?', 'frekuensi']\n",
    "db['proporsi'] = db['frekuensi']/n\n",
    "print(db)\n",
    "\n",
    "plt.pie(db['proporsi'], labels = list(db['punya_digital_bank?']), autopct = '%.0f%%')\n",
    "plt.show('proporsi responden yang memiliki db (n = {})'.format(n))"
   ]
  },
  {
   "cell_type": "markdown",
   "id": "0bea9643",
   "metadata": {},
   "source": [
    "### proporsi pilihan digital bank responden"
   ]
  },
  {
   "cell_type": "code",
   "execution_count": 37,
   "id": "4c304f23",
   "metadata": {},
   "outputs": [
    {
     "name": "stdout",
     "output_type": "stream",
     "text": [
      "                 pilihan_db  frekuensi  proporsi\n",
      "0       Jenius by Bank BTPN        217  0.103580\n",
      "1      Digibank by Bank DBS         20  0.009547\n",
      "2         Jago by Bank Jago         47  0.022434\n",
      "3           Blu by Bank BCA         89  0.042482\n",
      "4  Neo by Bank Neo Commerce         36  0.017184\n"
     ]
    },
    {
     "data": {
      "image/png": "[encoded data removed]",
      "text/plain": [
       "<Figure size 432x288 with 1 Axes>"
      ]
     },
     "metadata": {
      "needs_background": "light"
     },
     "output_type": "display_data"
    }
   ],
   "source": [
    "pilihan_db = pd.DataFrame()\n",
    "for x in list(df.columns)[11:16]:\n",
    "    dfx = pd.DataFrame(df[x].value_counts()).reset_index()\n",
    "    dfx['proporsi'] = dfx[x]/n\n",
    "    dfx.columns = ['pilihan_db', 'frekuensi', 'proporsi']\n",
    "    pilihan_db = pd.concat([pilihan_db, dfx], axis = 0)\n",
    "    pilihan_db = pilihan_db.reset_index(drop = True)\n",
    "print(pilihan_db)\n",
    "\n",
    "sns.barplot(data = pilihan_db, x = 'pilihan_db', y = 'proporsi')\n",
    "plt.title('proporsi pilihan digital bank responden (n = {})'.format(n))\n",
    "plt.show()"
   ]
  },
  {
   "cell_type": "markdown",
   "id": "ac0cd936",
   "metadata": {},
   "source": [
    "### proporsi pengunaan digital bank responden"
   ]
  },
  {
   "cell_type": "code",
   "execution_count": 38,
   "id": "59b33d23",
   "metadata": {},
   "outputs": [
    {
     "name": "stdout",
     "output_type": "stream",
     "text": [
      "519\n"
     ]
    }
   ],
   "source": [
    "n2 = (df['memiliki_akun_digital_bank?'] == 'ya').sum()\n",
    "print(n2)"
   ]
  },
  {
   "cell_type": "code",
   "execution_count": 39,
   "id": "b4a057fb",
   "metadata": {},
   "outputs": [
    {
     "name": "stdout",
     "output_type": "stream",
     "text": [
      "                                              alasan  frekuensi  proporsi\n",
      "0                                kemudahan transaksi        291  0.560694\n",
      "1                                 karena sedang tren         71  0.136802\n",
      "2                       kemudahan pembukaan rekening        236  0.454721\n",
      "3  fitur yang ditawarkan beragam dan memenuhi keb...        130  0.250482\n",
      "4                                              promo        141  0.271676\n"
     ]
    },
    {
     "data": {
      "image/png": "[encoded data removed]",
      "text/plain": [
       "<Figure size 432x288 with 1 Axes>"
      ]
     },
     "metadata": {
      "needs_background": "light"
     },
     "output_type": "display_data"
    }
   ],
   "source": [
    "alasan_db = pd.DataFrame()\n",
    "\n",
    "for x in list(df.columns)[16:21]:\n",
    "    dfx = pd.DataFrame(df[x].value_counts()).reset_index()\n",
    "    dfx['proporsi'] = dfx[x]/n2\n",
    "    dfx.columns = ['alasan', 'frekuensi', 'proporsi']\n",
    "    alasan_db = pd.concat([alasan_db, dfx], axis = 0)\n",
    "    alasan_db = alasan_db.reset_index(drop = True)\n",
    "print(alasan_db)\n",
    "\n",
    "sns.barplot(data = alasan_db, x = 'alasan', y = 'proporsi')\n",
    "plt.title('proporsi alasan penggunaan digital bank responden (n = {})'.format(n2))\n",
    "plt.xticks(rotation = 90)\n",
    "plt.show()"
   ]
  },
  {
   "cell_type": "markdown",
   "id": "cb5c1e75",
   "metadata": {},
   "source": [
    "### proporsi fitur digital bank yang paling sering dipakai responden"
   ]
  },
  {
   "cell_type": "code",
   "execution_count": 41,
   "id": "a201ad72",
   "metadata": {},
   "outputs": [
    {
     "name": "stdout",
     "output_type": "stream",
     "text": [
      "                                               fitur  frekuensi  proporsi\n",
      "0                                          Cek Saldo        265  0.510597\n",
      "1                                           Transfer        366  0.705202\n",
      "2  Pembelian Pulsa, eMoney, & voucher-voucher lai...        248  0.477842\n",
      "3                                 Pembayaran Tagihan        145  0.279383\n",
      "4  Mutasi rekening/ History Transaksi/ Spending T...        132  0.254335\n"
     ]
    },
    {
     "data": {
      "image/png": "[encoded data removed]",
      "text/plain": [
       "<Figure size 432x288 with 1 Axes>"
      ]
     },
     "metadata": {
      "needs_background": "light"
     },
     "output_type": "display_data"
    }
   ],
   "source": [
    "fitur_db = pd.DataFrame()\n",
    "\n",
    "for x in list(df.columns)[21:26]:\n",
    "    dfx = pd.DataFrame(df[x].value_counts()).reset_index()\n",
    "    dfx['proporsi'] = dfx[x]/n2\n",
    "    dfx.columns = ['fitur', 'frekuensi', 'proporsi']\n",
    "    fitur_db = pd.concat([fitur_db, dfx], axis = 0)\n",
    "    fitur_db = fitur_db.reset_index(drop = True)\n",
    "print(fitur_db)\n",
    "\n",
    "sns.barplot(data = fitur_db, x = 'fitur', y = 'proporsi')\n",
    "plt.title('proporsi fitur digital bank yang paling sering dipakai responden (n = {})'.format(n2))\n",
    "plt.xticks(rotation = 90)\n",
    "plt.show()"
   ]
  },
  {
   "cell_type": "markdown",
   "id": "d7cb9a29",
   "metadata": {},
   "source": [
    "### proporsi keluhan responden dalam penggunaan digital bank"
   ]
  },
  {
   "cell_type": "code",
   "execution_count": 42,
   "id": "5b173b63",
   "metadata": {},
   "outputs": [
    {
     "name": "stdout",
     "output_type": "stream",
     "text": [
      "                                             keluhan  frekuensi  proporsi\n",
      "0     Transaksi tidak berhasil namun saldo berkurang         36  0.069364\n",
      "1  Tidak melakukan transaksi tapi saldo berkurang...         27  0.052023\n",
      "2             Kesulitan menghubungi customer service         70  0.134875\n"
     ]
    },
    {
     "data": {
      "image/png": "[encoded data removed]",
      "text/plain": [
       "<Figure size 432x288 with 1 Axes>"
      ]
     },
     "metadata": {
      "needs_background": "light"
     },
     "output_type": "display_data"
    }
   ],
   "source": [
    "keluhan_db = pd.DataFrame()\n",
    "\n",
    "for x in list(df.columns)[26:29]:\n",
    "    dfx = pd.DataFrame(df[x].value_counts()).reset_index()\n",
    "    dfx['proporsi'] = dfx[x]/n2\n",
    "    dfx.columns = ['keluhan', 'frekuensi', 'proporsi']\n",
    "    keluhan_db = pd.concat([keluhan_db, dfx], axis = 0)\n",
    "    keluhan_db = keluhan_db.reset_index(drop = True)\n",
    "print(keluhan_db)\n",
    "\n",
    "sns.barplot(data = keluhan_db, x = 'keluhan', y = 'proporsi')\n",
    "plt.title('proporsi keluhan responden (n = {})'.format(n2))\n",
    "plt.xticks(rotation = 90)\n",
    "plt.show()"
   ]
  },
  {
   "cell_type": "markdown",
   "id": "1dcb0a8b",
   "metadata": {},
   "source": [
    "### condfidence interval proporsi"
   ]
  },
  {
   "cell_type": "code",
   "execution_count": 43,
   "id": "bce65513",
   "metadata": {},
   "outputs": [
    {
     "data": {
      "text/html": [
       "<div>\n",
       "<style scoped>\n",
       "    .dataframe tbody tr th:only-of-type {\n",
       "        vertical-align: middle;\n",
       "    }\n",
       "\n",
       "    .dataframe tbody tr th {\n",
       "        vertical-align: top;\n",
       "    }\n",
       "\n",
       "    .dataframe thead th {\n",
       "        text-align: right;\n",
       "    }\n",
       "</style>\n",
       "<table border=\"1\" class=\"dataframe\">\n",
       "  <thead>\n",
       "    <tr style=\"text-align: right;\">\n",
       "      <th></th>\n",
       "      <th>pilihan_db</th>\n",
       "      <th>frekuensi</th>\n",
       "      <th>proporsi</th>\n",
       "    </tr>\n",
       "  </thead>\n",
       "  <tbody>\n",
       "    <tr>\n",
       "      <th>0</th>\n",
       "      <td>Jenius by Bank BTPN</td>\n",
       "      <td>217</td>\n",
       "      <td>0.103580</td>\n",
       "    </tr>\n",
       "    <tr>\n",
       "      <th>1</th>\n",
       "      <td>Digibank by Bank DBS</td>\n",
       "      <td>20</td>\n",
       "      <td>0.009547</td>\n",
       "    </tr>\n",
       "    <tr>\n",
       "      <th>2</th>\n",
       "      <td>Jago by Bank Jago</td>\n",
       "      <td>47</td>\n",
       "      <td>0.022434</td>\n",
       "    </tr>\n",
       "    <tr>\n",
       "      <th>3</th>\n",
       "      <td>Blu by Bank BCA</td>\n",
       "      <td>89</td>\n",
       "      <td>0.042482</td>\n",
       "    </tr>\n",
       "    <tr>\n",
       "      <th>4</th>\n",
       "      <td>Neo by Bank Neo Commerce</td>\n",
       "      <td>36</td>\n",
       "      <td>0.017184</td>\n",
       "    </tr>\n",
       "  </tbody>\n",
       "</table>\n",
       "</div>"
      ],
      "text/plain": [
       "                 pilihan_db  frekuensi  proporsi\n",
       "0       Jenius by Bank BTPN        217  0.103580\n",
       "1      Digibank by Bank DBS         20  0.009547\n",
       "2         Jago by Bank Jago         47  0.022434\n",
       "3           Blu by Bank BCA         89  0.042482\n",
       "4  Neo by Bank Neo Commerce         36  0.017184"
      ]
     },
     "execution_count": 43,
     "metadata": {},
     "output_type": "execute_result"
    }
   ],
   "source": [
    "pilihan_db"
   ]
  },
  {
   "cell_type": "code",
   "execution_count": 44,
   "id": "96500398",
   "metadata": {},
   "outputs": [
    {
     "name": "stdout",
     "output_type": "stream",
     "text": [
      "0.029660104261807888 < p_jenius - p_blu < 0.09253559979547134\n"
     ]
    }
   ],
   "source": [
    "p1 = pilihan_db.at[0, 'proporsi']\n",
    "p2 = pilihan_db.at[3, 'proporsi']\n",
    "\n",
    "q1 = 1 - p1\n",
    "q2 = 1 - p2\n",
    "\n",
    "jenius_blu = p1 - p2\n",
    "\n",
    "error = norm.ppf(0.975)*(p1*q1/n2+p2*q2/n2)**(1/2)\n",
    "\n",
    "batas_bawah = jenius_blu - error\n",
    "batas_atas = jenius_blu + error\n",
    "print('{} < p_jenius - p_blu < {}'.format(batas_bawah, batas_atas))"
   ]
  },
  {
   "cell_type": "code",
   "execution_count": 45,
   "id": "6c254807",
   "metadata": {},
   "outputs": [
    {
     "data": {
      "text/html": [
       "<div>\n",
       "<style scoped>\n",
       "    .dataframe tbody tr th:only-of-type {\n",
       "        vertical-align: middle;\n",
       "    }\n",
       "\n",
       "    .dataframe tbody tr th {\n",
       "        vertical-align: top;\n",
       "    }\n",
       "\n",
       "    .dataframe thead th {\n",
       "        text-align: right;\n",
       "    }\n",
       "</style>\n",
       "<table border=\"1\" class=\"dataframe\">\n",
       "  <thead>\n",
       "    <tr style=\"text-align: right;\">\n",
       "      <th></th>\n",
       "      <th>fitur</th>\n",
       "      <th>frekuensi</th>\n",
       "      <th>proporsi</th>\n",
       "    </tr>\n",
       "  </thead>\n",
       "  <tbody>\n",
       "    <tr>\n",
       "      <th>0</th>\n",
       "      <td>Cek Saldo</td>\n",
       "      <td>265</td>\n",
       "      <td>0.510597</td>\n",
       "    </tr>\n",
       "    <tr>\n",
       "      <th>1</th>\n",
       "      <td>Transfer</td>\n",
       "      <td>366</td>\n",
       "      <td>0.705202</td>\n",
       "    </tr>\n",
       "    <tr>\n",
       "      <th>2</th>\n",
       "      <td>Pembelian Pulsa, eMoney, &amp; voucher-voucher lai...</td>\n",
       "      <td>248</td>\n",
       "      <td>0.477842</td>\n",
       "    </tr>\n",
       "    <tr>\n",
       "      <th>3</th>\n",
       "      <td>Pembayaran Tagihan</td>\n",
       "      <td>145</td>\n",
       "      <td>0.279383</td>\n",
       "    </tr>\n",
       "    <tr>\n",
       "      <th>4</th>\n",
       "      <td>Mutasi rekening/ History Transaksi/ Spending T...</td>\n",
       "      <td>132</td>\n",
       "      <td>0.254335</td>\n",
       "    </tr>\n",
       "  </tbody>\n",
       "</table>\n",
       "</div>"
      ],
      "text/plain": [
       "                                               fitur  frekuensi  proporsi\n",
       "0                                          Cek Saldo        265  0.510597\n",
       "1                                           Transfer        366  0.705202\n",
       "2  Pembelian Pulsa, eMoney, & voucher-voucher lai...        248  0.477842\n",
       "3                                 Pembayaran Tagihan        145  0.279383\n",
       "4  Mutasi rekening/ History Transaksi/ Spending T...        132  0.254335"
      ]
     },
     "execution_count": 45,
     "metadata": {},
     "output_type": "execute_result"
    }
   ],
   "source": [
    "fitur_db"
   ]
  },
  {
   "cell_type": "code",
   "execution_count": 46,
   "id": "2d018fc5",
   "metadata": {},
   "outputs": [
    {
     "name": "stdout",
     "output_type": "stream",
     "text": [
      "0.37078336958982216 < p_transfer - p_tagihan < 0.48085439534274044\n"
     ]
    }
   ],
   "source": [
    "p1 = fitur_db.at[1, 'proporsi']\n",
    "p2 = fitur_db.at[3, 'proporsi']\n",
    "\n",
    "q1 = 1 - p1\n",
    "q2 = 1 - p2\n",
    "\n",
    "trf_tag = p1 - p2\n",
    "\n",
    "error = norm.ppf(0.975)*(p1*q1/n2+p2*q2/n2)**(1/2)\n",
    "\n",
    "batas_bawah = trf_tag - error\n",
    "batas_atas = trf_tag + error\n",
    "print('{} < p_transfer - p_tagihan < {}'.format(batas_bawah, batas_atas))"
   ]
  },
  {
   "cell_type": "markdown",
   "id": "55956be3",
   "metadata": {},
   "source": [
    "## Kesimpulan"
   ]
  },
  {
   "cell_type": "markdown",
   "id": "fa170894",
   "metadata": {},
   "source": [
    "## Data dan Bentuk Data\n",
    "\n",
    "Dataset yang dianalisa berisi data mengenai digital banking. Sumber data berasal dari survey yang telah dilaksanakan. Responden berjumlah 2095. Dataset berisi data mengenai jenis kelamin, usia, pendidikan, penghasilan, peningkatan aktivitas online, responden memiliki akun digital bank atau tidak, pilihan digital bank, alasan menggunakan digital bank tsb., fitur yang digunakan, dan keluhan selama menggunakan digital bank.\n",
    "\n",
    "## Demografi\n",
    "\n",
    "1. Jenis kelamin responden adalah laki-laki sebanyakan 50%, perempuan 49%, dan 1% tidak menjawab. Perbandingan jenis kelamin hampir sama.\n",
    "2. Proporsi usia terbanyak bada rentang 15-20 tahun dengan proporsi 71%, kemudian 21-30 tahun sebanyak 14%, 41-50 tahun sebanyak 7%, dan lain-lain dengan porsi lebih sedikit. Banyak responden berada pada usia remaja.\n",
    "3. Sebanyak 70% responden memiliki pendidikan terakhir SMA, 24% S1, 3% S2, dan lainnya dengan proporsi lebih sedikit. Banyak respoden berada di usia perkuliahan karena pendidikan terakhirnya adalah SMA.\n",
    "4. Kebanyakan responden berpenghasilkan di bawah 2 juta, yaitu sekitar 71%. Selanjutnya terdapat 13% responden yang memiliki penghasilkan 2-5 juta perbulan, 7% memiliki penghasilan 5-10 juta per bulan, dan lainnya dengan porsi yang lebih sedikit.\n",
    "\n",
    "## Analisis Proporsi \n",
    "\n",
    "1. Dalam 3 bulan terakhir, aktivitas online cenderung meningkat, terutama dalam media sosial sebanyak 72%, streaming video/film sebanyak 69%, dan mengikuti kelas online sebanyak 68%. Hal ini selaras dengan proporsi responden yang 71% nya merupakan anak lulusan SMA dan sedang menempuh bangku perkuliahan.\n",
    "2. Dari seluruh responden, hanya 25% nya yang memiliki akun digital bank.\n",
    "3. Digital bank terbanyak yang digunakan dari 2095 responden adalah Jenius sebanyak 10%, selanjutnya Digibank sebanyak 1%, dan bank-bank digital lainnya dengan porsi yang lebih sedikit.\n",
    "4. Jika dilihat dari 519 responden yang memiliki akun digital bank, lima alasan mereka menggunakan digital bank adalah karena kemudahan transaksi (56%), sedang tren(13.7%), kemudahan pembuka rekening (45%), fitur beragam (25%), promo (27%), dan alasan lainnya.\n",
    "5. Lima fitur yang sering digunakan responden dalam digital bank adalah cek saldo sebanyak 51%, transfer sebanyak 70%, pembelian sebanyak 47%, membayar tagihan sebanyak 28%, dan histori transaksi sebanyak 25%.\n",
    "6. Keluhan yang dialami pengguna digital bank adalah transaksi yang tidak berhasil namun saldo tetap berkurang (7%), saldo berkurang padahal tidak melakukan transaksi (5%), dan kesulitan menghubungi customer service (13.5%).\n",
    "\n",
    "\n",
    "## Analisis Confidence Interval 95% untuk Selisih Proporsi\n",
    "\n",
    "1. Pengguna Jenius - pengguna Blu. Dalam analisis, didapatkan bahwa selisih proporsi pengguna Jenius dikurangi pengguna Blu berada di rentang 2.9% hingga 9.25%. Artinya untuk setiap populasi masyarakat Indonesia yang menggunakan digital bank, Jenius akan selalu lebih populer minimal 2.9% dan maksimal 9.25% daripada Blu. Kemungkinan besar hal ini terjadi karena promosi Jenius jauh lebih gencar daripada Blu yang disediakan oleh Bank BCA. Seperti yang sering kita amati di sekitar, di mana marketing Jenius jauh lebih mudah ditemui dibanding Blu BCA. Selain itu, BCA sendiri lebih terkenal sebagai bank pada umumnya dibanding produk digital banknya, yaitu Blu.\n",
    "\n",
    "2. Pengguna fitur transfer - pengguna fitur pembayaran tagihan. Dalam analisis, didapatkan bahwa selisih proporsi pengguna fitur transfer dengan pembayaran tagihan ada di rentang 37% hinggga 48%. Artinya untuk setiap populasi masyarakat indonesia, fitur transfer jauh lebih banyak digunakan ketimbang fitur pembayaran tagihan. Hal ini mungkin disebabkan fasilitas pembayaran tagihan sangat beragam, sistem pembayaran via digital bank belum familier di masyarakat, dan metode pembayaran tidak hanya melewati digital bank, bisa juga langsung datang ke kantor kebutuhan terkait untuk membayar tagihan kebutuhan rumaht tangga. Sedangkan untuk transfer, melalui digital bank jauh lebih efisien dibanding datang dan mengantre ke bank. Selain itu transfer secara digital juga sudah lumrah dilakukan masyarakat."
   ]
  }
 ],
 "metadata": {
  "kernelspec": {
   "display_name": "Python 3",
   "language": "python",
   "name": "python3"
  },
  "language_info": {
   "codemirror_mode": {
    "name": "ipython",
    "version": 3
   },
   "file_extension": ".py",
   "mimetype": "text/x-python",
   "name": "python",
   "nbconvert_exporter": "python",
   "pygments_lexer": "ipython3",
   "version": "3.8.8"
  }
 },
 "nbformat": 4,
 "nbformat_minor": 5
}
